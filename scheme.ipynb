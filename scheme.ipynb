{
  "nbformat": 4,
  "nbformat_minor": 0,
  "metadata": {
    "colab": {
      "provenance": [],
      "authorship_tag": "ABX9TyOp1abR9ZQvERB7QCqWO9Fj",
      "include_colab_link": true
    },
    "kernelspec": {
      "name": "python3",
      "display_name": "Python 3"
    },
    "language_info": {
      "name": "python"
    }
  },
  "cells": [
    {
      "cell_type": "markdown",
      "metadata": {
        "id": "view-in-github",
        "colab_type": "text"
      },
      "source": [
        "<a href=\"https://colab.research.google.com/github/polyakova-polina/F_T0/blob/master/scheme.ipynb\" target=\"_parent\"><img src=\"https://colab.research.google.com/assets/colab-badge.svg\" alt=\"Open In Colab\"/></a>"
      ]
    },
    {
      "cell_type": "code",
      "source": [
        "!pip install qiskit --quiet\n",
        "!pip install matplotlib --quiet\n",
        "!pip install pylatexenc --quiet\n",
        "import numpy as np"
      ],
      "metadata": {
        "id": "ZJjcPjd7b5w_"
      },
      "execution_count": 1,
      "outputs": []
    },
    {
      "cell_type": "code",
      "execution_count": 2,
      "metadata": {
        "id": "jICyi7pCbmY_"
      },
      "outputs": [],
      "source": [
        "from qiskit import QuantumCircuit, assemble, Aer\n",
        "from qiskit.visualization import plot_histogram, plot_bloch_vector\n",
        "from math import sqrt, pi"
      ]
    },
    {
      "cell_type": "code",
      "source": [
        "from qiskit import QuantumCircuit, QuantumRegister\n",
        "from qiskit.circuit import Gate\n"
      ],
      "metadata": {
        "id": "eMxceIqKRTnt"
      },
      "execution_count": 3,
      "outputs": []
    },
    {
      "cell_type": "code",
      "source": [
        "# Определение нового гейта\n",
        "class MyGate(Gate):\n",
        "    def __init__(self, name, num_qubits):\n",
        "        super().__init__(name, num_qubits, [])\n",
        "\n",
        "# Создание квантовой схемы и регистра\n",
        "qr = QuantumRegister(5)\n",
        "circuit = QuantumCircuit(qr)\n",
        "\n",
        "# Добавление пользовательского гейта в схему\n",
        "my_gate1 = MyGate(\"Encoding\", 5)\n",
        "my_gate2 = MyGate(\"Time_error\", 5)\n",
        "my_gate3 = MyGate(\"Decoding\", 5)\n",
        "my_gate4 = MyGate(\"Error_correction\", 5)\n"
      ],
      "metadata": {
        "id": "BS2d3O9aRD-i"
      },
      "execution_count": 13,
      "outputs": []
    },
    {
      "cell_type": "code",
      "source": [
        "qc = QuantumCircuit(5) # We are redefining qc\n",
        "qc.h(0)\n",
        "qc.cx(0, 1)\n",
        "circuit.append(my_gate1, [qr[0],qr[1],qr[2],qr[3],qr[4]] )\n",
        "circuit.append(my_gate2, [qr[0],qr[1],qr[2],qr[3],qr[4]] )\n",
        "circuit.append(my_gate3, [qr[0],qr[1],qr[2],qr[3],qr[4]] )\n",
        "circuit.append(my_gate4, [qr[0],qr[1],qr[2],qr[3],qr[4]] )\n",
        "circuit.draw('mpl')"
      ],
      "metadata": {
        "colab": {
          "base_uri": "https://localhost:8080/",
          "height": 440
        },
        "id": "qrQOK1Q4JazW",
        "outputId": "eb8df07b-41e4-445a-9b1e-a08c67d16c1a"
      },
      "execution_count": 14,
      "outputs": [
        {
          "output_type": "stream",
          "name": "stderr",
          "text": [
            "/usr/local/lib/python3.10/dist-packages/qiskit/visualization/circuit/matplotlib.py:266: FutureWarning: The default matplotlib drawer scheme will be changed to \"iqp\" in a following release. To silence this warning, specify the current default explicitly as style=\"clifford\", or the new default as style=\"iqp\".\n",
            "  self._style, def_font_ratio = load_style(self._style)\n"
          ]
        },
        {
          "output_type": "execute_result",
          "data": {
            "text/plain": [
              "<Figure size 891.207x451.5 with 1 Axes>"
            ],
            "image/png": "[encoded data removed]"
          },
          "metadata": {},
          "execution_count": 14
        }
      ]
    },
    {
      "cell_type": "markdown",
      "source": [],
      "metadata": {
        "id": "PxcznbHubnFF"
      }
    }
  ]
}